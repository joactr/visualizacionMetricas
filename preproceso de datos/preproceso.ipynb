{
 "cells": [
  {
   "cell_type": "code",
   "execution_count": 1,
   "metadata": {},
   "outputs": [],
   "source": [
    "import pandas as pd\n",
    "from matplotlib import pyplot as plt\n",
    "import pycountry_convert as pc\n",
    "from matplotlib import rcParams\n",
    "import geopandas as gpd"
   ]
  },
  {
   "attachments": {},
   "cell_type": "markdown",
   "metadata": {},
   "source": [
    "### Creación Dataset"
   ]
  },
  {
   "cell_type": "code",
   "execution_count": 2,
   "metadata": {},
   "outputs": [],
   "source": [
    "life = pd.read_csv(\"life_expectancy_years.csv\")\n",
    "life = life.melt(id_vars=[\"country\"], \n",
    "        var_name=\"Date\", \n",
    "        value_name=\"Esperanza_vida\")\n",
    "income = pd.read_csv(\"income_per_person_gdppercapita_ppp_inflation_adjusted.csv\")\n",
    "income = income.melt(id_vars=[\"country\"], \n",
    "        var_name=\"Date\", \n",
    "        value_name=\"PIB_capita\")\n",
    "poblacion = pd.read_csv(\"Population_total.csv\")\n",
    "poblacion = poblacion.melt(id_vars=[\"country\"], \n",
    "        var_name=\"Date\", \n",
    "        value_name=\"Población\")\n",
    "urban_pop = pd.read_csv(\"urban_population_percent_of_total.csv\")\n",
    "urban_pop = urban_pop.melt(id_vars=[\"country\"], \n",
    "        var_name=\"Date\", \n",
    "        value_name=\"Población_urbana\")\n",
    "children_woman = pd.read_csv(\"children_per_woman_total_fertility.csv\")\n",
    "children_woman = children_woman.melt(id_vars=[\"country\"], \n",
    "        var_name=\"Date\", \n",
    "        value_name=\"Bebés_por_mujer\")\n",
    "basic_san = pd.read_csv(\"at_least_basic_sanitation_overall_access_percent.csv\")\n",
    "basic_san = basic_san.melt(id_vars=[\"country\"], \n",
    "        var_name=\"Date\", \n",
    "        value_name=\"Saneamiento_básico\")"
   ]
  },
  {
   "cell_type": "code",
   "execution_count": 3,
   "metadata": {},
   "outputs": [],
   "source": [
    "df = income.merge(life,on=['country',\"Date\"],how=\"left\")\n",
    "df = df.merge(poblacion,on=['country',\"Date\"],how=\"left\")\n",
    "df = df.merge(urban_pop,on=['country',\"Date\"],how=\"left\")\n",
    "df = df.merge(children_woman,on=['country',\"Date\"],how=\"left\")\n",
    "df = df.merge(basic_san,on=['country',\"Date\"],how=\"left\")\n",
    "df = df.rename(columns={'country':'País','Date': 'Año', 'oldName2': 'newName2'})\n",
    "df[\"Año\"] = pd.to_numeric(df[\"Año\"])"
   ]
  },
  {
   "cell_type": "code",
   "execution_count": 4,
   "metadata": {},
   "outputs": [],
   "source": [
    "def alpha2code(country): #Obtiene codigo alpha2 del pais\n",
    "    if country == \"Cote d'Ivoire\": country = \"Ivory Coast\"\n",
    "    if country == \"Congo, Dem. Rep.\": return \"CD\"\n",
    "    if country == \"Congo, Rep.\": return \"CG\"\n",
    "    if country == \"Micronesia, Fed. Sts.\": country = \"Micronesia\"\n",
    "    if country == \"Hong Kong, China\": country = \"Hong Kong\"\n",
    "    if country == \"Lao\": country = \"Laos\"\n",
    "    if country == \"Timor-Leste\": return \"TL\" #\"TLS\"\n",
    "    if country == \"St. Vincent and the Grenadines\": return \"VC\" #\"VCT\"\n",
    "    country_code = pc.country_name_to_country_alpha2(country, cn_name_format=\"default\")\n",
    "    return country_code\n",
    "\n",
    "def getContinent(country): #Obtiene continente del pais\n",
    "    if country == \"Cote d'Ivoire\": country = \"Ivory Coast\"\n",
    "    if country == \"Congo, Dem. Rep.\" or country == \"Congo, Rep.\": country = \"Republic of the Congo\"\n",
    "    if country == \"Micronesia, Fed. Sts.\": country = \"Micronesia\"\n",
    "    if country == \"Hong Kong, China\": country = \"Hong Kong\"\n",
    "    if country == \"Lao\": country = \"Laos\"\n",
    "    if country == \"Timor-Leste\": return \"Asia\"\n",
    "    if country == \"St. Vincent and the Grenadines\": return \"América Norte\"\n",
    "    country_code = pc.country_name_to_country_alpha2(country, cn_name_format=\"default\")\n",
    "    Continente_name = pc.country_alpha2_to_continent_code(country_code)\n",
    "    nombreContinente = {\"AS\":\"Asia\",\"EU\":\"Europa\",\"OC\":\"Oceanía\",\"NA\":\"América Norte\",\"SA\":\"América Sur\",\"AF\":\"África\"}\n",
    "    Continente_name = nombreContinente[Continente_name]\n",
    "    if(Continente_name==\"NA\"): print(country)\n",
    "    return Continente_name\n",
    "\n",
    "\n",
    "def value_to_float(x): # Los números vienen con sufijos para cuantificar\n",
    "    if type(x) == float:\n",
    "        return x\n",
    "    if type(x) == int:\n",
    "        return float(x)\n",
    "    if 'k' in x:\n",
    "            return float(x.replace('k', '')) * 1000\n",
    "    if 'M' in x:\n",
    "            return float(x.replace('M', '')) * 1000000\n",
    "    if 'B' in x:\n",
    "        return float(x.replace('B', '')) * 1000000000\n",
    "    return float(x)"
   ]
  },
  {
   "cell_type": "code",
   "execution_count": 5,
   "metadata": {},
   "outputs": [],
   "source": [
    "dfG = gpd.read_file(\"World_Countries_(Generalized).geojson\")\n",
    "dfG.set_geometry(\"geometry\")\n",
    "# Anexamos algunos territorios controlados por países\n",
    "dfG = dfG.replace(\"ESH\", \"MAR\")\n",
    "dfG = dfG.replace(\"XXZ\", \"IND\")\n",
    "dfG = dfG.replace(\"XXY\", \"IND\")"
   ]
  },
  {
   "cell_type": "code",
   "execution_count": 6,
   "metadata": {},
   "outputs": [],
   "source": [
    "f = lambda x: getContinent(x)\n",
    "f2 = lambda x: value_to_float(x)\n",
    "f3 = lambda x: alpha2code(x)\n",
    "\n",
    "#Procesamos datos\n",
    "df['Continente'] = df['País'].apply(f)\n",
    "df['PIB_capita'] = df['PIB_capita'].apply(f2)\n",
    "df['Población'] = df['Población'].apply(f2)\n",
    "df['ISO'] = df['País'].apply(f3)"
   ]
  },
  {
   "attachments": {},
   "cell_type": "markdown",
   "metadata": {},
   "source": [
    "### Procesado Trabajo"
   ]
  },
  {
   "cell_type": "code",
   "execution_count": 7,
   "metadata": {},
   "outputs": [],
   "source": [
    "df = df[df[\"Año\"] < 2021] #Años posteriores tienen muchas lagunas en los datos\n",
    "#Sustituimos nombres a español (chatGPT)\n",
    "countryDict= {'Afghanistan': 'Afganistán', 'Albania': 'Albania', 'Algeria': 'Argelia', 'Andorra': 'Andorra', 'Angola': 'Angola', 'Antigua and Barbuda': 'Antigua y Barbuda', 'Argentina': 'Argentina', 'Armenia': 'Armenia', 'Australia': 'Australia', 'Austria': 'Austria', 'Azerbaijan': 'Azerbaiyán', 'Portugal': 'Portugal', 'Bahamas': 'Bahamas', 'Bahrain': 'Baréin', 'Bangladesh': 'Bangladesh', 'Barbados': 'Barbados', 'Belarus': 'Bielorrusia', 'Belgium': 'Bélgica', 'Belize': 'Belice', 'Benin': 'Benín', 'Bhutan': 'Bután', 'Bolivia': 'Bolivia', 'Bosnia and Herzegovina': 'Bosnia y Herzegovina', 'Botswana': 'Botsuana', 'Brazil': 'Brasil', 'Brunei': 'Brunéi', 'Bulgaria': 'Bulgaria', 'Burkina Faso': 'Burkina Faso', 'Burundi': 'Burundi', 'Cape Verde': 'Cabo Verde', 'Cambodia': 'Camboya', 'Cameroon': 'Camerún', 'Canada': 'Canadá', 'Spain': 'España', 'Central African Republic': 'República Centroafricana', 'Chad': 'Chad', 'Chile': 'Chile', 'China': 'China', 'Colombia': 'Colombia', 'Comoros': 'Comoras', 'Congo, Rep.': 'República del Congo', 'Congo, Dem. Rep.': 'República Democrática del Congo', 'Costa Rica': 'Costa Rica', \"Cote d'Ivoire\": \"Costa de Marfil\", 'Croatia': 'Croacia', 'Cuba': 'Cuba', 'Cyprus': 'Chipre', 'Czech Republic': 'República Checa', 'Denmark': 'Dinamarca', 'Djibouti': 'Yibuti', 'Dominica': 'Dominica', 'Dominican Republic': 'República Dominicana', 'Ecuador': 'Ecuador', 'Egypt': 'Egipto', 'El Salvador': 'El Salvador', 'Equatorial Guinea': 'Guinea Ecuatorial', 'Eritrea': 'Eritrea', 'Estonia': 'Estonia', 'Eswatini': 'Esuatini', 'Ethiopia': 'Etiopía', 'Fiji': 'Fiyi', 'Finland': 'Finlandia', 'France': 'Francia', 'Gabon': 'Gabón', 'Gambia': 'Gambia', 'Georgia': 'Georgia', 'Germany': 'Alemania', 'Ghana': 'Ghana', 'Greece': 'Grecia', 'Grenada': 'Granada', 'Guatemala': 'Guatemala', 'Guinea': 'Guinea', 'Guinea-Bissau': 'Guinea-Bisáu', 'Guyana': 'Guyana', 'Haiti': 'Haití', 'Honduras': 'Honduras', 'Hungary': 'Hungría', 'Iceland': 'Islandia', 'India': 'India', 'Indonesia': 'Indonesia', 'Iran': 'Irán', 'Iraq': 'Irak', 'Ireland': 'Irlanda', 'Israel': 'Israel', 'Italy': 'Italia', 'Jamaica': 'Jamaica', 'Japan': 'Japón', 'Jordan': 'Jordania', 'Kazakhstan': 'Kazajistán', 'Kenya': 'Kenia', 'Kiribati': 'Kiribati', 'Kuwait': 'Kuwait', 'Kyrgyz Republic': 'Kirguistán', 'Lao': 'Laos', 'Latvia': 'Letonia', 'Lebanon': 'Líbano', 'Lesotho': 'Lesoto', 'Liberia': 'Liberia', 'Libya': 'Libia', 'Lithuania': 'Lituania', 'Luxembourg': 'Luxemburgo', 'Madagascar': 'Madagascar', 'Malawi': 'Malaui', 'Malaysia': 'Malasia', 'Maldives': 'Maldivas', 'Mali': 'Malí', 'Malta': 'Malta', 'Marshall Islands': 'Islas Marshall', 'Mauritania': 'Mauritania', 'Mauritius': 'Mauricio', 'Mexico': 'México', 'Micronesia, Fed. Sts.': 'Micronesia', 'Moldova': 'Moldavia', 'Monaco': 'Mónaco', 'Mongolia': 'Mongolia', 'Montenegro': 'Montenegro', 'Morocco': 'Marruecos', 'Mozambique': 'Mozambique', 'Myanmar': 'Myanmar', 'Namibia': 'Namibia', 'Nauru': 'Nauru', 'Nepal': 'Nepal', 'Netherlands': 'Países Bajos', 'New Zealand': 'Nueva Zelanda', 'Nicaragua': 'Nicaragua', 'Niger': 'Níger', 'Nigeria': 'Nigeria', 'North Korea': 'Corea del Norte', 'North Macedonia': 'Macedonia del Norte', 'Norway': 'Noruega', 'Oman': 'Omán', 'Pakistan': 'Pakistán', 'Palau': 'Palaos', 'Palestine': 'Palestina', 'Panama': 'Panamá', 'Papua New Guinea': 'Papúa Nueva Guinea', 'Paraguay': 'Paraguay', 'Peru': 'Perú', 'Philippines': 'Filipinas', 'Poland': 'Polonia', 'Qatar': 'Catar', 'Romania': 'Rumania', 'Russia': 'Rusia', 'Rwanda': 'Ruanda', 'St. Kitts and Nevis': 'San Cristóbal y Nieves', 'St. Lucia': 'Santa Lucía', 'St. Vincent and the Grenadines': 'San Vicente y las Granadinas', 'Samoa': 'Samoa', 'San Marino': 'San Marino', 'Sao Tome and Principe': 'Santo Tomé y Príncipe', 'Saudi Arabia': 'Arabia Saudita', 'Senegal': 'Senegal', 'Serbia': 'Serbia', 'Seychelles': 'Seychelles', 'Sierra Leone': 'Sierra Leona', 'Singapore': 'Singapur', 'Slovak Republic': 'República Eslovaca', 'Slovenia': 'Eslovenia', 'Solomon Islands': 'Islas Salomón', 'Somalia': 'Somalia', 'South Africa': 'Sudáfrica', 'South Korea': 'Corea del Sur', 'South Sudan': 'Sudán del Sur', 'Sri Lanka': 'Sri Lanka', 'Sudan': 'Sudán', 'Suriname': 'Surinam', 'Sweden': 'Suecia', 'Switzerland': 'Suiza', 'Syria': 'Siria', 'Tajikistan': 'Tayikistán', 'Tanzania': 'Tanzania', 'Thailand': 'Tailandia', 'Timor-Leste': 'Timor Oriental', 'Togo': 'Togo', 'Tonga': 'Tonga', 'Trinidad and Tobago': 'Trinidad y Tobago', 'Tunisia': 'Túnez', 'Turkey': 'Turquía', 'Turkmenistan': 'Turkmenistán', 'Tuvalu': 'Tuvalu', 'Uganda': 'Uganda', 'Ukraine': 'Ucrania', 'United Arab Emirates': 'Emiratos Árabes Unidos', 'United Kingdom': 'Reino Unido', 'United States': 'Estados Unidos', 'Uruguay': 'Uruguay', 'Uzbekistan': 'Uzbekistán', 'Vanuatu': 'Vanuatu', 'Venezuela': 'Venezuela', 'Vietnam': 'Vietnam', 'Yemen': 'Yemen', 'Zambia': 'Zambia', 'Zimbabwe': 'Zimbabue'}\n",
    "df = df.replace({\"País\": countryDict})\n",
    "df.to_csv(\"metricas_globales.csv\",encoding=\"utf-8\") #Guardamos"
   ]
  },
  {
   "cell_type": "code",
   "execution_count": 8,
   "metadata": {},
   "outputs": [],
   "source": [
    "#Sustituimos nombres a español geoDataFrame (chatGPT)\n",
    "dfG[\"COUNTRY\"] = ['Afganistán', 'Albania', 'Argelia', 'Samoa Americana', 'Andorra', 'Angola', 'Anguila', 'Antártida', 'Antigua y Barbuda', 'Argentina', 'Armenia',\n",
    "                'Aruba', 'Australia', 'Austria', 'Azerbaiyán', 'Azores', 'Bahamas', 'Baréin', 'Bangladesh', 'Barbados', 'Bielorrusia', 'Bélgica', 'Belice', 'Benín',\n",
    "                'Bermudas', 'Bután', 'Bolivia', 'Bonaire', 'Bosnia y Herzegovina', 'Botsuana', 'Isla Bouvet', 'Brasil', 'Territorio Británico del Océano Índico', 'Islas Vírgenes Británicas',\n",
    "                'Brunéi', 'Bulgaria', 'Burkina Faso', 'Burundi', 'Cabo Verde', 'Camboya', 'Camerún', 'Canadá', 'Canarias', 'Islas Caimán', 'República Centroafricana', 'Chad', 'Chile',\n",
    "                'China', 'Isla de Navidad', 'Islas Cocos', 'Colombia', 'Comoras', 'Congo', 'República Democrática del Congo', 'Islas Cook', 'Costa Rica', \"Costa de Marfil\", 'Croacia',\n",
    "                'Cuba', 'Curazao', 'Chipre', 'República Checa', 'Dinamarca', 'Yibuti', 'Dominica', 'República Dominicana', 'Ecuador', 'Egipto', 'El Salvador', 'Guinea Ecuatorial', \n",
    "                'Eritrea', 'Estonia', 'Esuatini', 'Etiopía', 'Islas Malvinas', 'Islas Feroe', 'Fiyi', 'Finlandia', 'Francia', 'Guayana Francesa', 'Polinesia Francesa',\n",
    "                'Territorios Australes Franceses', 'Gabón', 'Gambia', 'Georgia', 'Alemania', 'Ghana', 'Gibraltar', 'Islas Gloriosas', 'Grecia', 'Groenlandia', 'Granada',\n",
    "                'Guadalupe', 'Guam', 'Guatemala', 'Guernsey', 'Guinea', 'Guinea-Bissau', 'Guyana', 'Haití', 'Isla Heard e Islas McDonald', 'Honduras', 'Hungría', 'Islandia',\n",
    "                'India', 'Indonesia', 'Irán', 'Irak', 'Irlanda', 'Isla de Man', 'Israel', 'Italia', 'Jamaica', 'Japón', 'Jersey', 'Jordania', 'Isla Juan de Nova', 'Kazajistán',\n",
    "                'Kenia', 'Kiribati', 'Kuwait', 'Kirguistán', 'Laos', 'Letonia', 'Líbano', 'Lesoto', 'Liberia', 'Libia', 'Liechtenstein', 'Lituania', 'Luxemburgo', 'Madagascar',\n",
    "                'Madeira', 'Malaui', 'Malasia', 'Maldivas', 'Malí', 'Malta', 'Islas Marshall', 'Martinica', 'Mauritania', 'Mauricio', 'Mayotte', 'México', 'Micronesia', 'Moldavia',\n",
    "                'Mónaco', 'Mongolia', 'Montenegro', 'Montserrat', 'Marruecos', 'Mozambique', 'Myanmar', 'Namibia', 'Nauru', 'Nepal', 'Países Bajos', 'Nueva Caledonia',\n",
    "                'Nueva Zelanda', 'Nicaragua', 'Níger', 'Nigeria', 'Niue', 'Isla Norfolk', 'Corea del Norte', 'Macedonia del Norte', 'Islas Marianas del Norte', 'Noruega',\n",
    "                'Omán', 'Pakistán', 'Palau', 'Territorio Palestino', 'Panamá', 'Papúa Nueva Guinea', 'Paraguay', 'Perú', 'Filipinas', 'Islas Pitcairn', 'Polonia',\n",
    "                'Portugal', 'Puerto Rico', 'Catar', 'Reunión', 'Rumania', 'Federación de Rusia', 'Ruanda', 'Saba', 'San Bartolomé', 'San Eustaquio', 'Santa Elena',\n",
    "                'San Cristóbal y Nieves', 'Santa Lucía', 'San Martín', 'San Pedro y Miquelón', 'San Vicente y las Granadinas', 'Samoa', 'San Marino',\n",
    "                'Santo Tomé y Príncipe', 'Arabia Saudita', 'Senegal', 'Serbia', 'Seychelles', 'Sierra Leona', 'Singapur', 'Sint Maarten', 'Eslovaquia',\n",
    "                'Eslovenia', 'Islas Salomón', 'Somalia', 'Sudáfrica', 'Islas Georgias del Sur y Sandwich del Sur', 'Corea del Sur', 'Sudán del Sur',\n",
    "                'España', 'Sri Lanka', 'Sudán', 'Surinam', 'Svalbard', 'Suecia', 'Suiza', 'Siria', 'Tayikistán', 'Tanzania', 'Tailandia', 'Timor Oriental',\n",
    "                'Togo', 'Tokelau', 'Tonga', 'Trinidad y Tobago', 'Túnez', 'Turquía', 'Turkmenistán', 'Islas Turcas y Caicos', 'Tuvalu', 'Uganda', 'Ucrania',\n",
    "                'Emiratos Árabes Unidos', 'Reino Unido', 'Estados Unidos', 'Islas menores alejadas de los Estados Unidos', 'Uruguay',\n",
    "                'Islas Vírgenes de los Estados Unidos', 'Uzbekistán', 'Vanuatu', 'Ciudad del Vaticano', 'Venezuela', 'Vietnam', 'Wallis y Futuna',\n",
    "                'Yemen', 'Zambia', 'Zimbabue']\n",
    "dfG[\"geometry\"] = dfG.simplify(0.1) #0.1 es el mejor valor encontrado entre calidad/fluidez\n",
    "dfG.to_file(\"geografia.geojson\")"
   ]
  }
 ],
 "metadata": {
  "kernelspec": {
   "display_name": "alc",
   "language": "python",
   "name": "python3"
  },
  "language_info": {
   "codemirror_mode": {
    "name": "ipython",
    "version": 3
   },
   "file_extension": ".py",
   "mimetype": "text/x-python",
   "name": "python",
   "nbconvert_exporter": "python",
   "pygments_lexer": "ipython3",
   "version": "3.9.16"
  },
  "orig_nbformat": 4
 },
 "nbformat": 4,
 "nbformat_minor": 2
}
